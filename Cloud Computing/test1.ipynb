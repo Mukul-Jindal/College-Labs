{
 "cells": [
  {
   "cell_type": "markdown",
   "metadata": {},
   "source": [
    "# Q1"
   ]
  },
  {
   "cell_type": "code",
   "execution_count": null,
   "metadata": {},
   "outputs": [],
   "source": [
    "import random \n",
    "import numpy as np\n",
    "rows = 4\n",
    "cols=4\n",
    "matrix1 = np.random.randint(0,10,size=(rows,cols),dtype=int)\n",
    "print(\"Matrix 1:\\n\",matrix1)\n",
    "matrix2 = np.random.randint(0,10,size=(rows,cols),dtype=int)\n",
    "print(\"Matrix 2:\\n\",matrix2)\n"
   ]
  },
  {
   "cell_type": "code",
   "execution_count": null,
   "metadata": {},
   "outputs": [],
   "source": [
    "import sys\n",
    "\n",
    "print(\"python version\")\n",
    "print(sys.version)"
   ]
  },
  {
   "cell_type": "markdown",
   "metadata": {},
   "source": [
    "# Q2"
   ]
  },
  {
   "cell_type": "code",
   "execution_count": 19,
   "metadata": {},
   "outputs": [
    {
     "name": "stdout",
     "output_type": "stream",
     "text": [
      "{5: [2, 0, 9], 8: [5, 4, 2], 10: [2, 3, 9]}\n"
     ]
    }
   ],
   "source": [
    "test_list=[[5,8,10],[2,0,9],[5,4,2],[2,3,9]]\n",
    "ans = {}\n",
    "i=0\n",
    "for array in test_list[1:]:\n",
    "   ans.update({test_list[0][i] : array})\n",
    "   i+=1\n",
    "print(ans)   "
   ]
  },
  {
   "cell_type": "markdown",
   "metadata": {},
   "source": [
    "# Q3"
   ]
  },
  {
   "cell_type": "code",
   "execution_count": 32,
   "metadata": {},
   "outputs": [
    {
     "name": "stdout",
     "output_type": "stream",
     "text": [
      "[[1], [4, 4, 4], [5, 5], [6], [7], [8]]\n"
     ]
    }
   ],
   "source": [
    "test_list1 = [1,4,4,8,5,5,6,7,4]\n",
    "test_list1.sort()\n",
    "ans=[]\n",
    "i=0\n",
    "while i != len(test_list1):\n",
    "    similarElements=[]\n",
    "    if i != len(test_list1)-1: \n",
    "        if(test_list1[i]==test_list1[i+1]):\n",
    "            similarElements.append(test_list1[i])\n",
    "            j=0\n",
    "            while True:\n",
    "                if(test_list1[i]==test_list1[i+1+j]):\n",
    "                    similarElements.append(test_list1[i])\n",
    "                    j=j+1\n",
    "                else:\n",
    "                    break\n",
    "            i=i+j+1\n",
    "            ans.append(similarElements)\n",
    "        else:\n",
    "            ans.append([test_list1[i]])  \n",
    "            i=i+1\n",
    "    else:\n",
    "        ans.append([test_list1[i]])  \n",
    "        i=i+1\n",
    "print(ans)"
   ]
  },
  {
   "cell_type": "markdown",
   "metadata": {},
   "source": [
    "# Q4"
   ]
  },
  {
   "cell_type": "code",
   "execution_count": 41,
   "metadata": {},
   "outputs": [
    {
     "name": "stdout",
     "output_type": "stream",
     "text": [
      "Matrix 1:\n",
      " [[2 9 9 4]\n",
      " [1 9 3 3]\n",
      " [7 0 0 7]\n",
      " [5 2 0 8]]\n",
      "Matrix 2:\n",
      " [[6 3 9 1]\n",
      " [0 1 7 8]\n",
      " [9 4 8 1]\n",
      " [5 2 6 9]]\n",
      "Addition:\n",
      " [[ 8 12 18  5]\n",
      " [ 1 10 10 11]\n",
      " [16  4  8  8]\n",
      " [10  4  6 17]]\n",
      "Subtraction:\n",
      " [[-4  6  0  3]\n",
      " [ 1  8 -4 -5]\n",
      " [-2 -4 -8  6]\n",
      " [ 0  0 -6 -1]]\n"
     ]
    }
   ],
   "source": [
    "print(\"Matrix 1:\\n\",matrix1)\n",
    "print(\"Matrix 2:\\n\",matrix2)\n",
    "addition = matrix1 + matrix2\n",
    "print(\"Addition:\\n\",addition)\n",
    "subtraction = matrix1 - matrix2\n",
    "print(\"Subtraction:\\n\",subtraction)"
   ]
  },
  {
   "cell_type": "markdown",
   "metadata": {},
   "source": [
    "# Q5"
   ]
  },
  {
   "cell_type": "code",
   "execution_count": 39,
   "metadata": {},
   "outputs": [
    {
     "name": "stdout",
     "output_type": "stream",
     "text": [
      "[[2]]\n",
      "[[2 9 9]\n",
      " [1 9 3]\n",
      " [7 0 0]]\n",
      "[[2 9 9 4]\n",
      " [1 9 3 3]\n",
      " [7 0 0 7]\n",
      " [5 2 0 8]]\n"
     ]
    }
   ],
   "source": [
    "def subMatrix(matrix,rows,cols):\n",
    "    for i in range(rows):\n",
    "        subMatrix=[]\n",
    "        for j in range(i+1):\n",
    "            subMatrix.append(matrix[j][:i+1])\n",
    "        if((subMatrix[0][0]+subMatrix[i][i])%2 == 0):\n",
    "            print(np.array(subMatrix))\n",
    "subMatrix(matrix1,rows,cols)"
   ]
  },
  {
   "cell_type": "markdown",
   "metadata": {},
   "source": [
    "# Q6"
   ]
  },
  {
   "cell_type": "code",
   "execution_count": 34,
   "metadata": {},
   "outputs": [
    {
     "name": "stdout",
     "output_type": "stream",
     "text": [
      "Matrix: [[2 9 9 4]\n",
      " [1 9 3 3]\n",
      " [7 0 0 7]\n",
      " [5 2 0 8]]\n",
      "[24 16 14 15]\n"
     ]
    }
   ],
   "source": [
    "print(\"Matrix:\",matrix1)\n",
    "row_sums = np.sum(matrix1, axis=1)\n",
    "print(row_sums)"
   ]
  }
 ],
 "metadata": {
  "kernelspec": {
   "display_name": "Python 3",
   "language": "python",
   "name": "python3"
  },
  "language_info": {
   "codemirror_mode": {
    "name": "ipython",
    "version": 3
   },
   "file_extension": ".py",
   "mimetype": "text/x-python",
   "name": "python",
   "nbconvert_exporter": "python",
   "pygments_lexer": "ipython3",
   "version": "3.11.3"
  },
  "orig_nbformat": 4
 },
 "nbformat": 4,
 "nbformat_minor": 2
}
