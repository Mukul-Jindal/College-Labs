{
 "cells": [
  {
   "cell_type": "markdown",
   "metadata": {},
   "source": [
    "# Name - Mukul Jindal\n",
    "# Group - 3CS10\n",
    "# Roll No- 102116063"
   ]
  },
  {
   "cell_type": "code",
   "execution_count": 8,
   "metadata": {},
   "outputs": [],
   "source": [
    "import numpy as np\n",
    "from PIL import Image"
   ]
  },
  {
   "cell_type": "markdown",
   "metadata": {},
   "source": [
    "# Q1"
   ]
  },
  {
   "cell_type": "code",
   "execution_count": 15,
   "metadata": {},
   "outputs": [
    {
     "name": "stdout",
     "output_type": "stream",
     "text": [
      "Orignial Arr:  [1 2 3 6 4 5]\n",
      "Reversed Arr:  [5 4 6 3 2 1]\n",
      "Method 1:  [1 2 3 2 4 5 1 2 3]\n",
      "Method 2:  [1 2 3 2 4 5 1 2 3]\n",
      "Equal\n",
      "arr1>arr2\n",
      "[[False False]\n",
      " [False False]]\n",
      "arr2>arr1\n",
      "[[False False]\n",
      " [False False]]\n",
      "arr1>=arr2\n",
      "[[ True  True]\n",
      " [ True  True]]\n",
      "arr2>=arr1\n",
      "[[ True  True]\n",
      " [ True  True]]\n",
      "Value:  [1]  Index: [0]\n",
      "Value:  [1 3]  Index: [0 4]\n",
      "Sum of all elements 45\n",
      "Sum of  elements along column [[20  9 16]]\n",
      "Sum of elements along row\n",
      " [[14]\n",
      " [16]\n",
      " [15]]\n",
      "sum of diagonal elements:  176\n",
      "Eigen values:  [98.16835147 28.097044   49.73460452]\n",
      "Eigen vectors:  [[ 0.4574917   0.34637121 -0.15017693]\n",
      " [ 0.28447814 -0.72784061 -0.4852124 ]\n",
      " [ 0.84248058  0.59184038  0.8614034 ]]\n",
      "Inverse:  [[ 0.02404141 -0.00911212 -0.00444671]\n",
      " [-0.01667882  0.02966905  0.0024785 ]\n",
      " [ 0.00631287 -0.01603732  0.01217379]]\n",
      "Determinant:  137180.0000000001\n",
      "[[16 19]\n",
      " [26 31]]\n",
      "[[16 19  5]\n",
      " [26 31  8]\n",
      " [46 55 14]]\n",
      "[[17 52]\n",
      " [13 62]]\n",
      "[[ 2 10  0 10 20  6]\n",
      " [ 3 15  0 15 30  9]\n",
      " [ 4 20  0 20 40 12]\n",
      " [ 3 15  0 15 30  9]\n",
      " [ 2 10  0 10 20  6]\n",
      " [ 9 45  0 45 90 27]]\n",
      "[[-20   4   7]\n",
      " [-84  36  20]]\n"
     ]
    }
   ],
   "source": [
    "# Q1 A\n",
    "arr = np.array([1,2,3,6,4,5])\n",
    "reversedArr = np.flip(arr)\n",
    "print(\"Orignial Arr: \",arr)\n",
    "print(\"Reversed Arr: \",reversedArr)\n",
    "\n",
    "#Q1 B\n",
    "array1 = np.array([[1,2,3],[2,4,5],[1,2,3]])\n",
    "flattenArray1 = np.ndarray.flatten(array1)\n",
    "print(\"Method 1: \",flattenArray1)\n",
    "flattenArray2 = np.ndarray.ravel(array1)\n",
    "print(\"Method 2: \",flattenArray2)\n",
    "\n",
    "# Q1 C\n",
    "arr1 = np.array([[1,2],[3,4]])\n",
    "arr2 = np.array([[1, 2], [3, 4]])\n",
    "if np.array_equal(arr1,arr2):\n",
    "    print(\"Equal\")\n",
    "else:\n",
    "    print(\"Not equal\")\n",
    "\n",
    "print(\"arr1>arr2\")\n",
    "print(np.greater(arr1,arr2))\n",
    "print(\"arr2>arr1\")\n",
    "print(np.greater(arr2,arr1))\n",
    "print(\"arr1>=arr2\")\n",
    "print(np.greater_equal(arr1,arr2))\n",
    "print(\"arr2>=arr1\")\n",
    "print(np.greater_equal(arr2,arr1))\n",
    "\n",
    "# Q1 D\n",
    "x = np.array([1,2,3,4,5,1,2,1,1,1])\n",
    "y = np.array([1, 1, 1, 2, 3, 4, 2, 4, 3, 3,])\n",
    "\n",
    "values,index,counts = np.unique(x,return_index=True,return_counts=True)\n",
    "print(\"Value: \",values[counts==counts.max()],\" Index:\", index[counts==counts.max()])\n",
    "\n",
    "values,index,counts = np.unique(y,return_index=True,return_counts=True)\n",
    "print(\"Value: \",values[counts==counts.max()],\" Index:\", index[counts==counts.max()])\n",
    "\n",
    "# Q1 E\n",
    "gfg = np.matrix('[4, 1, 9; 12, 3, 1; 4, 5, 6]')\n",
    "print(\"Sum of all elements\",np.sum(gfg))\n",
    "print(\"Sum of  elements along column\",np.sum(gfg,0))\n",
    "print(\"Sum of elements along row\\n\",np.sum(gfg,1))\n",
    "\n",
    "# Q1 F\n",
    "n_array = np.array([[55, 25, 15],[30, 44, 2],[11, 45, 77]])\n",
    "print(\"sum of diagonal elements: \",np.trace(n_array,))\n",
    "values, vectors = np.linalg.eig(n_array)\n",
    "print(\"Eigen values: \",values)\n",
    "print(\"Eigen vectors: \",vectors)\n",
    "print(\"Inverse: \",np.linalg.inv(n_array)) \n",
    "print(\"Determinant: \",np.linalg.det(n_array))\n",
    "\n",
    "# Q1 G-i\n",
    "p = [[1, 2], [2, 3]]\n",
    "q = [[4, 5], [6, 7]]\n",
    "multiplication = np.matmul(p,q)\n",
    "print(multiplication)\n",
    "\n",
    "# Q1 G-ii\n",
    "p = [[1, 2], [2, 3], [4, 5]]\n",
    "q = [[4, 5, 1], [6, 7, 2]]\n",
    "multiplication = np.matmul(p,q)\n",
    "print(multiplication)\n",
    "\n",
    "#Q1 H \n",
    "x = np.array([[2, 3, 4], [3, 2, 9]])\n",
    "y = np.array([[1, 5, 0], [5, 10, 3]])\n",
    "print(np.inner(x,y))\n",
    "print(np.outer(x,y,out=None))\n",
    "print(np.cross(x,y))"
   ]
  },
  {
   "cell_type": "markdown",
   "metadata": {},
   "source": [
    "# Q2"
   ]
  },
  {
   "cell_type": "code",
   "execution_count": 14,
   "metadata": {},
   "outputs": [
    {
     "name": "stdout",
     "output_type": "stream",
     "text": [
      "[[1 2 3]\n",
      " [4 5 6]]\n",
      "25th percentile:  [-2.75 -0.25 -3.75]\n",
      "50th percentile:  [-1.5  1.5 -1.5]\n",
      "75th percentile:  [-0.25  3.25  0.75]\n",
      "25th percentile:  [-0.5 -5. ]\n",
      "50th percentile:  [ 1. -4.]\n",
      "75th percentile:  [2.  0.5]\n",
      "Mean Colmun:  [-1.5  1.5 -1.5]\n",
      "Median Colmun:  [-1.5  1.5 -1.5]\n",
      "Standard Deviation Colmun:  [2.5 3.5 4.5]\n",
      "Mean Row:  [ 0.66666667 -1.66666667]\n",
      "Median Row:  [ 1. -4.]\n",
      "Standard Deviation Row:  [2.05480467 4.78423336]\n",
      "Array : [-1.8 -1.6 -0.5  0.5  1.6  1.8  3. ]\n",
      "Floor Values : [-2. -2. -1.  0.  1.  1.  3.]\n",
      "Ceiling Values : [-1. -1. -0.  1.  2.  2.  3.]\n",
      "Truncated Values : [-1. -1. -0.  0.  1.  1.  3.]\n",
      "Rounded Values : [-2. -2. -0.  0.  2.  2.  3.]\n"
     ]
    }
   ],
   "source": [
    "array = np.array([[1, -2, 3],[-4, 5, -6]])\n",
    "\n",
    "# Q2 A-i\n",
    "print(array.__abs__())\n",
    "\n",
    "# Q2 A-ii\n",
    "print(\"25th percentile: \", np.percentile(array,25,axis=0))\n",
    "print(\"50th percentile: \", np.percentile(array,50,axis=0))\n",
    "print(\"75th percentile: \", np.percentile(array,75,axis=0))\n",
    "print(\"25th percentile: \", np.percentile(array,25,axis=1))\n",
    "print(\"50th percentile: \", np.percentile(array,50,axis=1))\n",
    "print(\"75th percentile: \", np.percentile(array,75,axis=1))\n",
    "\n",
    "# Q2 A-iii\n",
    "print(\"Mean Colmun: \", np.mean(array,axis=0))\n",
    "print(\"Median Colmun: \", np.median(array,axis=0))\n",
    "print(\"Standard Deviation Colmun: \", np.std(array,axis=0))\n",
    "print(\"Mean Row: \", np.mean(array,axis=1))\n",
    "print(\"Median Row: \", np.median(array,axis=1))\n",
    "print(\"Standard Deviation Row: \", np.std(array,axis=1))\n",
    "\n",
    "# Q2 B\n",
    "a = np.array([-1.8, -1.6, -0.5, 0.5,1.6, 1.8, 3.0])\n",
    "print(\"Array :\",a)\n",
    "print(\"Floor Values :\", np.floor(a))\n",
    "print(\"Ceiling Values :\",np.ceil(a))\n",
    "print(\"Truncated Values :\",np.trunc(a))\n",
    "print(\"Rounded Values :\",np.round(a))"
   ]
  },
  {
   "cell_type": "markdown",
   "metadata": {},
   "source": [
    "# Q3 A"
   ]
  },
  {
   "cell_type": "code",
   "execution_count": 13,
   "metadata": {},
   "outputs": [
    {
     "name": "stdout",
     "output_type": "stream",
     "text": [
      "[[ 10  16  16  52  54  62 453]]\n",
      "[[0 3 4 1 5 2 6]]\n",
      "[16 10 16 52]\n",
      "[ 16  52  62  54 453]\n"
     ]
    }
   ],
   "source": [
    "array = np.array([10, 52, 62, 16, 16, 54, 453]),\n",
    "# i\n",
    "sortedArray = np.sort(array)\n",
    "print(sortedArray)\n",
    "# ii\n",
    "sortIndices = np.argsort(array)\n",
    "print(sortIndices)\n",
    "# iii\n",
    "smallest4Elemets = np.partition(array,kth=4)[0][:4]\n",
    "print(smallest4Elemets)\n",
    "# iv\n",
    "largest5Elements = np.partition(array,kth=-5)[0][-5:]\n",
    "print(largest5Elements)\n"
   ]
  },
  {
   "cell_type": "markdown",
   "metadata": {},
   "source": [
    "# Q3 B"
   ]
  },
  {
   "cell_type": "code",
   "execution_count": 17,
   "metadata": {},
   "outputs": [
    {
     "name": "stdout",
     "output_type": "stream",
     "text": [
      "[1. 2. 3. 2.]\n",
      "[1.2 2.2]\n"
     ]
    }
   ],
   "source": [
    "array = np.array([1.0, 1.2, 2.2, 2.0, 3.0, 2.0])\n",
    "integersFiltered = array[array==array.astype(int)]\n",
    "print(integersFiltered)\n",
    "floatFiltered = array[array!=array.astype(int)]\n",
    "print(floatFiltered)"
   ]
  },
  {
   "cell_type": "markdown",
   "metadata": {},
   "source": [
    "# Q4"
   ]
  },
  {
   "cell_type": "code",
   "execution_count": 9,
   "metadata": {},
   "outputs": [
    {
     "name": "stdout",
     "output_type": "stream",
     "text": [
      "[[[30 67 94]\n",
      "  [26 63 90]\n",
      "  [26 63 90]\n",
      "  ...\n",
      "  [28 65 92]\n",
      "  [26 63 90]\n",
      "  [22 59 86]]\n",
      "\n",
      " [[30 67 94]\n",
      "  [27 64 91]\n",
      "  [26 63 90]\n",
      "  ...\n",
      "  [22 59 86]\n",
      "  [22 59 86]\n",
      "  [21 58 85]]\n",
      "\n",
      " [[29 66 93]\n",
      "  [26 63 90]\n",
      "  [26 63 90]\n",
      "  ...\n",
      "  [21 58 85]\n",
      "  [22 59 86]\n",
      "  [24 61 88]]\n",
      "\n",
      " ...\n",
      "\n",
      " [[62 48 39]\n",
      "  [63 49 40]\n",
      "  [59 45 36]\n",
      "  ...\n",
      "  [35 30 24]\n",
      "  [34 29 23]\n",
      "  [34 29 25]]\n",
      "\n",
      " [[60 46 37]\n",
      "  [60 46 37]\n",
      "  [56 42 33]\n",
      "  ...\n",
      "  [36 31 25]\n",
      "  [35 30 24]\n",
      "  [34 29 25]]\n",
      "\n",
      " [[58 44 35]\n",
      "  [58 44 35]\n",
      "  [55 41 32]\n",
      "  ...\n",
      "  [36 31 25]\n",
      "  [35 30 24]\n",
      "  [33 28 24]]]\n"
     ]
    }
   ],
   "source": [
    "#A\n",
    "def img_to_array(path):\n",
    "    img = Image.open(path)\n",
    "    img_array = np.array(img)\n",
    "\n",
    "    if len(img_array.shape) == 3:\n",
    "        r, g, b = img_array[:,:,0], img_array[:,:,1], img_array[:,:,2]\n",
    "        np.savetxt('red_channel.txt', r, fmt='%d')\n",
    "        np.savetxt('green_channel.txt', g, fmt='%d')\n",
    "        np.savetxt('blue_channel.txt', b, fmt='%d')\n",
    "\n",
    "    else:\n",
    "        np.savetxt('gray_image.txt', img_array, fmt='%d')\n",
    "    \n",
    "    return img_array\n",
    "\n",
    "image_path  = \"../Machine Learning/img.jpg\"\n",
    "imgdata=img_to_array(image_path )\n",
    "#B\n",
    "print(imgdata)\n"
   ]
  }
 ],
 "metadata": {
  "kernelspec": {
   "display_name": "Python 3",
   "language": "python",
   "name": "python3"
  },
  "language_info": {
   "codemirror_mode": {
    "name": "ipython",
    "version": 3
   },
   "file_extension": ".py",
   "mimetype": "text/x-python",
   "name": "python",
   "nbconvert_exporter": "python",
   "pygments_lexer": "ipython3",
   "version": "3.11.3"
  },
  "orig_nbformat": 4
 },
 "nbformat": 4,
 "nbformat_minor": 2
}
