{
 "cells": [
  {
   "cell_type": "code",
   "execution_count": null,
   "metadata": {},
   "outputs": [],
   "source": [
    "import numpy as np"
   ]
  },
  {
   "cell_type": "markdown",
   "metadata": {},
   "source": [
    "# Q1"
   ]
  },
  {
   "cell_type": "code",
   "execution_count": null,
   "metadata": {},
   "outputs": [],
   "source": [
    "# Q1 A\n",
    "arr = np.array([1,2,3,6,4,5])\n",
    "reversedArr = np.flip(arr)\n",
    "print(\"Orignial Arr: \",arr)\n",
    "print(\"Reversed Arr: \",reversedArr)\n",
    "\n",
    "#Q1 B\n",
    "array1 = np.array([[1,2,3],[2,4,5],[1,2,3]])\n",
    "flattenArray1 = np.ndarray.flatten(array1)\n",
    "print(\"Method 1: \",flattenArray1)\n",
    "flattenArray2 = np.ndarray.ravel(array1)\n",
    "print(\"Method 2: \",flattenArray2)\n",
    "\n",
    "# Q1 C\n",
    "arr1 = np.array([[1,2],[3,4]])\n",
    "arr2 = np.array([[1, 2], [3, 4]])\n",
    "if np.array_equal(arr1,arr2):\n",
    "    print(\"Equal\")\n",
    "else:\n",
    "    print(\"Not equal\")\n",
    "\n",
    "print(\"arr1>arr2\")\n",
    "print(np.greater(arr1,arr2))\n",
    "print(\"arr2>arr1\")\n",
    "print(np.greater(arr2,arr1))\n",
    "print(\"arr1>=arr2\")\n",
    "print(np.greater_equal(arr1,arr2))\n",
    "print(\"arr2>=arr1\")\n",
    "print(np.greater_equal(arr2,arr1))\n",
    "\n",
    "# Q1 D\n",
    "x = np.array([1,2,3,4,5,1,2,1,1,1])\n",
    "y = np.array([1, 1, 1, 2, 3, 4, 2, 4, 3, 3,])\n",
    "\n",
    "values,index,counts = np.unique(x,return_index=True,return_counts=True)\n",
    "print(\"Value: \",values[counts==counts.max()],\" Index:\", index[counts==counts.max()])\n",
    "\n",
    "values,index,counts = np.unique(y,return_index=True,return_counts=True)\n",
    "print(\"Value: \",values[counts==counts.max()],\" Index:\", index[counts==counts.max()])\n",
    "\n",
    "# Q1 E\n",
    "gfg = np.matrix('[4, 1, 9; 12, 3, 1; 4, 5, 6]')\n",
    "print(\"Sum of all elements\",np.sum(gfg))\n",
    "print(\"Sum of  elements along column\",np.sum(gfg,0))\n",
    "print(\"Sum of elements along row\\n\",np.sum(gfg,1))\n",
    "\n",
    "# Q1 F\n",
    "n_array = np.array([[55, 25, 15],[30, 44, 2],[11, 45, 77]])\n",
    "print(\"sum of diagonal elements: \",np.trace(n_array,))\n",
    "values, vectors = np.linalg.eig(n_array)\n",
    "print(\"Eigen values: \",values)\n",
    "print(\"Eigen vectors: \",vectors)\n",
    "print(\"Inverse: \",np.linalg.inv(n_array)) \n",
    "print(\"Determinant: \",np.linalg.det(n_array))\n",
    "\n",
    "# Q1 G-i\n",
    "p = [[1, 2], [2, 3]]\n",
    "q = [[4, 5], [6, 7]]\n",
    "multiplication = np.matmul(p,q)\n",
    "print(multiplication)\n",
    "\n",
    "# Q1 G-ii\n",
    "p = [[1, 2], [2, 3], [4, 5]]\n",
    "q = [[4, 5, 1], [6, 7, 2]]\n",
    "multiplication = np.matmul(p,q)\n",
    "print(multiplication)\n",
    "\n",
    "#Q1 H \n",
    "x = np.array([[2, 3, 4], [3, 2, 9]])\n",
    "y = np.array([[1, 5, 0], [5, 10, 3]])\n",
    "print(np.inner(x,y))\n",
    "print(np.outer(x,y,out=None))\n",
    "print(np.cross(x,y))"
   ]
  },
  {
   "cell_type": "markdown",
   "metadata": {},
   "source": [
    "# Q2"
   ]
  },
  {
   "cell_type": "code",
   "execution_count": null,
   "metadata": {},
   "outputs": [],
   "source": [
    "array = np.array([[1, -2, 3],[-4, 5, -6]])\n",
    "\n",
    "# Q2 A-i\n",
    "print(array.__abs__())\n",
    "\n",
    "# Q2 A-ii\n",
    "print(\"25th percentile: \", np.percentile(array,25,axis=0))\n",
    "print(\"50th percentile: \", np.percentile(array,50,axis=0))\n",
    "print(\"75th percentile: \", np.percentile(array,75,axis=0))\n",
    "print(\"25th percentile: \", np.percentile(array,25,axis=1))\n",
    "print(\"50th percentile: \", np.percentile(array,50,axis=1))\n",
    "print(\"75th percentile: \", np.percentile(array,75,axis=1))\n",
    "\n",
    "# Q2 A-iii\n",
    "print(\"Mean Colmun: \", np.mean(array,axis=0))\n",
    "print(\"Median Colmun: \", np.median(array,axis=0))\n",
    "print(\"Standard Deviation Colmun: \", np.std(array,axis=0))\n",
    "print(\"Mean Row: \", np.mean(array,axis=1))\n",
    "print(\"Median Row: \", np.median(array,axis=1))\n",
    "print(\"Standard Deviation Row: \", np.std(array,axis=1))\n",
    "\n",
    "# Q2 B\n",
    "a = np.array([-1.8, -1.6, -0.5, 0.5,1.6, 1.8, 3.0])\n",
    "print(\"Array :\",a)\n",
    "print(\"Floor Values :\", np.floor(a))\n",
    "print(\"Ceiling Values :\",np.ceil(a))\n",
    "print(\"Truncated Values :\",np.trunc(a))\n",
    "print(\"Rounded Values :\",np.round(a))"
   ]
  }
 ],
 "metadata": {
  "kernelspec": {
   "display_name": "Python 3",
   "language": "python",
   "name": "python3"
  },
  "language_info": {
   "codemirror_mode": {
    "name": "ipython",
    "version": 3
   },
   "file_extension": ".py",
   "mimetype": "text/x-python",
   "name": "python",
   "nbconvert_exporter": "python",
   "pygments_lexer": "ipython3",
   "version": "3.10.12"
  },
  "orig_nbformat": 4
 },
 "nbformat": 4,
 "nbformat_minor": 2
}
